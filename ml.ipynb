{
  "nbformat": 4,
  "nbformat_minor": 0,
  "metadata": {
    "colab": {
      "name": "ml.ipynb",
      "provenance": [],
      "collapsed_sections": [],
      "authorship_tag": "ABX9TyOFpzvh8HjFuvDumBN8B7fB",
      "include_colab_link": true
    },
    "kernelspec": {
      "name": "python3",
      "display_name": "Python 3"
    },
    "language_info": {
      "name": "python"
    }
  },
  "cells": [
    {
      "cell_type": "markdown",
      "metadata": {
        "id": "view-in-github",
        "colab_type": "text"
      },
      "source": [
        "<a href=\"https://colab.research.google.com/github/peul00/school/blob/main/ml.ipynb\" target=\"_parent\"><img src=\"https://colab.research.google.com/assets/colab-badge.svg\" alt=\"Open In Colab\"/></a>"
      ]
    },
    {
      "cell_type": "code",
      "metadata": {
        "id": "gQaxvtcOUTN1"
      },
      "source": [
        "import numpy as np\n",
        "from sklearn import linear_model #linear_model 모듈을 가져옴\n",
        "regr = linear_model.LinearRegression()  #"
      ],
      "execution_count": null,
      "outputs": []
    },
    {
      "cell_type": "code",
      "metadata": {
        "id": "FJ3QN2q4U4pB"
      },
      "source": [
        "x=[[164],[179],[164],[170]]\n",
        "y= [53,63,55,59]"
      ],
      "execution_count": null,
      "outputs": []
    },
    {
      "cell_type": "code",
      "metadata": {
        "colab": {
          "base_uri": "https://localhost:8080/"
        },
        "id": "IlCjNcZEUxGp",
        "outputId": "f2b92757-59ae-49cb-a2e2-2651aeaf35d1"
      },
      "source": [
        "regr.fit(x,y)\n",
        "coef=regr.coef_\n",
        "intercept=regr.intercept_\n",
        "score=regr.score(x,y)\n",
        "print(\"y=\", coef, \"*x+\", intercept)\n",
        "print(\"The score of this line for data : \", score)"
      ],
      "execution_count": null,
      "outputs": [
        {
          "output_type": "stream",
          "text": [
            "y= [0.60696517] *x+ -45.22885572139306\n",
            "The score of this line for data :  0.9413103971667091\n"
          ],
          "name": "stdout"
        }
      ]
    },
    {
      "cell_type": "code",
      "metadata": {
        "colab": {
          "base_uri": "https://localhost:8080/"
        },
        "id": "YEC58xeUWJbb",
        "outputId": "349828e2-5613-4ba5-a30a-0ea4bcc6ab5e"
      },
      "source": [
        "input_data=[[180],[185]]\n",
        "result=regr.predict(input_data)\n",
        "print(result)"
      ],
      "execution_count": null,
      "outputs": [
        {
          "output_type": "stream",
          "text": [
            "[64.02487562 67.05970149]\n"
          ],
          "name": "stdout"
        }
      ]
    },
    {
      "cell_type": "code",
      "metadata": {
        "colab": {
          "base_uri": "https://localhost:8080/",
          "height": 265
        },
        "id": "7zOSm02FWnDD",
        "outputId": "ba316cac-8151-4e14-ea4a-b733cf24a89c"
      },
      "source": [
        "import matplotlib.pyplot as plt\n",
        "plt.scatter(x,y,color='blue')\n",
        "y_pred=regr.predict(x)\n",
        "plt.plot(x,y_pred,color='yellow',linewidth=3)\n",
        "plt.show()"
      ],
      "execution_count": null,
      "outputs": [
        {
          "output_type": "display_data",
          "data": {
            "image/png": "[encoded data removed]",
            "text/plain": [
              "<Figure size 432x288 with 1 Axes>"
            ]
          },
          "metadata": {
            "tags": [],
            "needs_background": "light"
          }
        }
      ]
    }
  ]
}